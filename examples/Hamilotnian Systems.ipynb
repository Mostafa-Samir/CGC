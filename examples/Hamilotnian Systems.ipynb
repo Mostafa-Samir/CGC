{
 "cells": [
  {
   "cell_type": "code",
   "execution_count": null,
   "metadata": {},
   "outputs": [],
   "source": [
    "from collections import namedtuple\n",
    "\n",
    "import jax\n",
    "import jax.numpy as jnp\n",
    "import numpy as np\n",
    "\n",
    "from scipy.integrate import odeint\n",
    "import matplotlib.pyplot as plt\n",
    "\n",
    "from cgc.graph import ComputationalGraph, derivative\n",
    "from cgc.types import LearnableParameter, ConstantParameter\n"
   ]
  },
  {
   "attachments": {},
   "cell_type": "markdown",
   "metadata": {},
   "source": [
    "# Mass-Spring System\n",
    "\n",
    "## Data Generation"
   ]
  },
  {
   "cell_type": "code",
   "execution_count": null,
   "metadata": {},
   "outputs": [],
   "source": [
    "def ms_system_ode(pq, t):\n",
    "    p, q = pq\n",
    "    h_grad = [\n",
    "        -2 * q,\n",
    "        2 * p\n",
    "    ]\n",
    "\n",
    "    return h_grad\n",
    "\n",
    "t = np.linspace(0, 80, 400)\n",
    "pq = odeint(ms_system_ode, [-0.1, -0.1], t)"
   ]
  },
  {
   "cell_type": "code",
   "execution_count": null,
   "metadata": {},
   "outputs": [],
   "source": [
    "p, q = pq.T\n",
    "H = 0.5 * (p ** 2 + q ** 2)\n",
    "\n",
    "plt.plot(t, p, label=\"$p$\")\n",
    "plt.plot(t, q, label=\"$q$\")\n",
    "plt.plot(t, H, label=\"H\")\n",
    "plt.legend()"
   ]
  },
  {
   "cell_type": "code",
   "execution_count": null,
   "metadata": {},
   "outputs": [],
   "source": [
    "X_true = np.concatenate((\n",
    "    t[:, np.newaxis],\n",
    "    pq,\n",
    "    H[:, np.newaxis],\n",
    "    #np.full_like(H, fill_value=0.03)[:, np.newaxis]\n",
    "), axis=1)\n",
    "\n",
    "M = np.ones_like(X_true).astype(bool)\n",
    "M[200:, 1:3] = False\n",
    "M[:, 3] = False\n",
    "\n",
    "X = np.full_like(X_true, fill_value=0)\n",
    "X[M] = X_true[M]\n",
    "X[:, 3] = 0.1"
   ]
  },
  {
   "cell_type": "code",
   "execution_count": null,
   "metadata": {},
   "outputs": [],
   "source": [
    "ms_graph = ComputationalGraph(observables_order=[\"t\", \"p\", \"q\", \"H\"])\n",
    "\n",
    "ms_graph.add_observable(\"t\")\n",
    "ms_graph.add_unknown_fn(\"t\", \"p\", alpha=0.01, gamma=LearnableParameter(1.0))\n",
    "ms_graph.add_unknown_fn(\"t\", \"q\", alpha=0.01, gamma=LearnableParameter(1.0))\n",
    "\n",
    "ms_graph.add_known_fn(\"p\", \"p_dot\", derivative)\n",
    "ms_graph.add_known_fn(\"q\", \"q_dot\", derivative)\n",
    "ms_graph.add_known_fn(\"p_dot\", \"-p_dot\", lambda p_dot: -p_dot)\n",
    "\n",
    "ms_graph.add_aggregator([\"q_dot\", \"-p_dot\"], \"qp_dot\")\n",
    "\n",
    "ms_graph.add_aggregator([\"p\", \"q\"], \"pq\")\n",
    "ms_graph.add_unknown_fn(\"pq\", \"H\", linear_functional=jax.jacobian, observations=\"qp_dot\", alpha=0.01, gamma=1.0)\n",
    "ms_graph.add_known_fn(\"H\", \"grad_H\", derivative)\n",
    "\n",
    "ms_graph.add_aggregator([\"q_dot\", \"grad_H\"], \"(q_dot, grad_H)\")\n",
    "ms_graph.add_aggregator([\"p_dot\", \"grad_H\"], \"(p_dot, grad_H)\")\n",
    "\n",
    "def p_dot_constraint(p_dot_grad_H):\n",
    "    p_dot, grad_H = p_dot_grad_H[:, 0], p_dot_grad_H[:, 1:]\n",
    "    return p_dot + grad_H[:, 1]\n",
    "\n",
    "def q_dot_constraint(q_dot_grad_H):\n",
    "    q_dot, grad_H = q_dot_grad_H[:, 0], q_dot_grad_H[:, 1:]\n",
    "    return q_dot - grad_H[:, 0]\n",
    "\n",
    "ms_graph.add_constraint(\"(p_dot, grad_H)\", \"W1\", p_dot_constraint)\n",
    "ms_graph.add_constraint(\"(q_dot, grad_H)\", \"W2\", q_dot_constraint)"
   ]
  },
  {
   "cell_type": "code",
   "execution_count": null,
   "metadata": {},
   "outputs": [],
   "source": [
    "ms_graph.set_loss_multipliers(constraints_loss_multiplier=10000)"
   ]
  },
  {
   "cell_type": "code",
   "execution_count": null,
   "metadata": {},
   "outputs": [],
   "source": [
    "Z = ms_graph.complete(X, M, optimizer=\"l-bfgs-b\", learn_parameters=True, n_rounds=10)"
   ]
  },
  {
   "cell_type": "code",
   "execution_count": null,
   "metadata": {},
   "outputs": [],
   "source": [
    "ms_graph.report_kernel_params()"
   ]
  },
  {
   "cell_type": "code",
   "execution_count": null,
   "metadata": {},
   "outputs": [],
   "source": [
    "fig, axes = plt.subplots(2, 1, figsize=(30, 20))\n",
    "\n",
    "axes[0].plot(t, Z[:, 1], label=\"Prediction\")\n",
    "axes[0].plot(t, p, label=\"Truth\")\n",
    "axes[0].set_title(\"$p$\")\n",
    "axes[0].axvline(39, label=\"End-of-Observation\", linestyle=\"--\", c='black')\n",
    "axes[0].legend()\n",
    "\n",
    "axes[1].plot(t, Z[:, 2], label=\"Prediction\")\n",
    "axes[1].plot(t, q, label=\"Truth\")\n",
    "axes[1].set_title(\"$q$\")\n",
    "axes[1].axvline(39, label=\"End-of-Observation\", linestyle=\"--\", c='black')\n",
    "axes[1].legend()"
   ]
  },
  {
   "cell_type": "markdown",
   "metadata": {},
   "source": [
    "# Two-Mass-Three-Springs System"
   ]
  },
  {
   "cell_type": "markdown",
   "metadata": {},
   "source": [
    "## Data Generation"
   ]
  },
  {
   "cell_type": "code",
   "execution_count": null,
   "metadata": {},
   "outputs": [],
   "source": [
    "def m2s3_system_ode(pq, t):\n",
    "    p1, p2, q1, q2 = pq\n",
    "    h_grad = [\n",
    "        -q1 + (q2 - q1),\n",
    "        -q2 - (q2 - q1),\n",
    "        p1,\n",
    "        p2\n",
    "    ]\n",
    "    \n",
    "    return h_grad\n",
    "\n",
    "t = np.linspace(0, 80, 400)\n",
    "pq = odeint(m2s3_system_ode, [0.1, -0.1, 0.2, -0.1], t)"
   ]
  },
  {
   "cell_type": "code",
   "execution_count": null,
   "metadata": {},
   "outputs": [],
   "source": [
    "p1, p2, q1, q2 = pq.T\n",
    "H = 0.5 * (q1 ** 2 + q2 ** 2 + (q2 - q1) ** 2 + p1 ** 2 + p2 ** 2)\n",
    "\n",
    "plt.plot(t, p1, label=\"$p_1$\")\n",
    "plt.plot(t, p2, label=\"$p_2$\")\n",
    "plt.plot(t, q1, label=\"$q_1$\")\n",
    "plt.plot(t, q2, label=\"$q_2$\")\n",
    "plt.plot(t, H, label=\"H\")\n",
    "plt.legend()\n"
   ]
  },
  {
   "cell_type": "code",
   "execution_count": null,
   "metadata": {},
   "outputs": [],
   "source": [
    "X_true = np.concatenate((\n",
    "    t[:, np.newaxis],\n",
    "    pq,\n",
    "    H[:, np.newaxis],\n",
    "), axis=1)\n",
    "\n",
    "M = np.ones_like(X_true).astype(bool)\n",
    "M[200:, 1:5] = False\n",
    "M[:, 5] = False\n",
    "\n",
    "X = np.zeros_like(X_true)\n",
    "X[M] = X_true[M]"
   ]
  },
  {
   "cell_type": "code",
   "execution_count": null,
   "metadata": {},
   "outputs": [],
   "source": [
    "m2s3_graph = ComputationalGraph(observables_order=[\"t\", \"p1\", \"p2\", \"q1\", \"q2\", \"H\"])\n",
    "\n",
    "m2s3_graph.add_observable(\"t\")\n",
    "m2s3_graph.add_unknown_fn(\"t\", \"p1\", alpha=0.01, gamma=LearnableParameter(1.5))\n",
    "m2s3_graph.add_unknown_fn(\"t\", \"p2\", alpha=0.01, gamma=LearnableParameter(1.5))\n",
    "m2s3_graph.add_unknown_fn(\"t\", \"q1\", alpha=0.01, gamma=LearnableParameter(1.5))\n",
    "m2s3_graph.add_unknown_fn(\"t\", \"q2\", alpha=0.01, gamma=LearnableParameter(1.5))\n",
    "\n",
    "m2s3_graph.add_known_fn(\"p1\", \"p1_dot\", derivative)\n",
    "m2s3_graph.add_known_fn(\"p2\", \"p2_dot\", derivative)\n",
    "m2s3_graph.add_known_fn(\"q1\", \"q1_dot\", derivative)\n",
    "m2s3_graph.add_known_fn(\"q2\", \"q2_dot\", derivative)\n",
    "\n",
    "m2s3_graph.add_aggregator([\"q1_dot\", \"q2_dot\"], \"q_dot\")\n",
    "m2s3_graph.add_aggregator([\"p1_dot\", \"p2_dot\"], \"p_dot\")\n",
    "m2s3_graph.add_known_fn(\"p_dot\", \"-p_dot\", lambda p_dot: -p_dot)\n",
    "\n",
    "m2s3_graph.add_aggregator([\"q_dot\", \"-p_dot\"], \"qp_dot\")\n",
    "m2s3_graph.add_aggregator([\"p1\", \"p2\", \"q1\", \"q2\"], \"pq\")\n",
    "\n",
    "m2s3_graph.add_unknown_fn(\"pq\", \"H\", linear_functional=jax.jacobian, observations=\"qp_dot\", alpha=0.01, gamma=1)\n",
    "m2s3_graph.add_known_fn(\"H\", \"grad_H\", derivative)\n",
    "\n",
    "m2s3_graph.add_aggregator([\"p_dot\", \"grad_H\"], \"(p_dot, grad_H)\")\n",
    "def p_dot_constraint(p_dot_grad_H):\n",
    "    p_dot, grad_H = p_dot_grad_H[:, :2], p_dot_grad_H[:, 2:]\n",
    "    return p_dot + grad_H[:, 2:]\n",
    "\n",
    "m2s3_graph.add_aggregator([\"q_dot\", \"grad_H\"], \"(q_dot, grad_H)\")\n",
    "def q_dot_constraint(q_dot_grad_H):\n",
    "    q_dot, grad_H = q_dot_grad_H[:, :2], q_dot_grad_H[:, 2:]\n",
    "    return q_dot - grad_H[:, :2]\n",
    "\n",
    "m2s3_graph.add_constraint(\"(p_dot, grad_H)\", \"W1\", p_dot_constraint)\n",
    "m2s3_graph.add_constraint(\"(q_dot, grad_H)\", \"W2\", q_dot_constraint)"
   ]
  },
  {
   "cell_type": "code",
   "execution_count": null,
   "metadata": {},
   "outputs": [],
   "source": [
    "m2s3_graph.set_loss_multipliers(constraints_loss_multiplier=10000)"
   ]
  },
  {
   "cell_type": "code",
   "execution_count": null,
   "metadata": {},
   "outputs": [],
   "source": [
    "Z = m2s3_graph.complete(X, M, optimizer=\"l-bfgs-b\", learn_parameters=True, n_rounds=20)"
   ]
  },
  {
   "cell_type": "code",
   "execution_count": null,
   "metadata": {},
   "outputs": [],
   "source": [
    "m2s3_graph.report_kernel_params()"
   ]
  },
  {
   "cell_type": "code",
   "execution_count": null,
   "metadata": {},
   "outputs": [],
   "source": [
    "fig, axes = plt.subplots(2, 2, figsize=(30, 30))\n",
    "\n",
    "PlotData = namedtuple(\"PlotData\", [\"axes\", \"index\", \"truth\", \"label\"])\n",
    "\n",
    "plots_data = [\n",
    "    PlotData((0, 0), 1, p1, \"$p_1$\"),\n",
    "    PlotData((0, 1), 2, p2, \"$p_2$\"),\n",
    "    PlotData((1, 0), 3, q1, \"$q_1$\"),\n",
    "    PlotData((1, 1), 4, q2, \"$q_2$\")\n",
    "]\n",
    "\n",
    "for data in plots_data:\n",
    "    i,j = data.axes\n",
    "\n",
    "    axes[i, j].plot(t, Z[:, data.index], label=\"Predictions\")\n",
    "    axes[i, j].plot(t, data.truth, label=\"Truth\")\n",
    "    axes[i, j].axvline(39, label=\"End-of-Observations\", linestyle='--', c='black')\n",
    "    axes[i, j].set_title(data.label)\n",
    "    axes[i, j].legend()"
   ]
  },
  {
   "cell_type": "code",
   "execution_count": null,
   "metadata": {},
   "outputs": [],
   "source": [
    "plt.plot(t, Z[:, 5])"
   ]
  },
  {
   "attachments": {},
   "cell_type": "markdown",
   "metadata": {},
   "source": [
    "# Hénon–Heiles System"
   ]
  },
  {
   "attachments": {},
   "cell_type": "markdown",
   "metadata": {},
   "source": [
    "## Data Generation"
   ]
  },
  {
   "cell_type": "code",
   "execution_count": null,
   "metadata": {},
   "outputs": [],
   "source": [
    "def hh_system_ode(pq, t):\n",
    "    p1, p2, q1, q2 = pq\n",
    "    h_grad = [\n",
    "        -q1 - 2 * q1 * q2,\n",
    "        -q2 - q1 ** 2 + q2 ** 2,\n",
    "        p1,\n",
    "        p2\n",
    "    ]\n",
    "\n",
    "    return h_grad\n",
    "\n",
    "t = np.linspace(0, 80, 400)\n",
    "pq = odeint(hh_system_ode, [0.1, -0.1, 0.2, -0.1], t)\n"
   ]
  },
  {
   "cell_type": "code",
   "execution_count": null,
   "metadata": {},
   "outputs": [],
   "source": [
    "p1, p2, q1, q2 = pq.T\n",
    "H = 0.5 * (q1 ** 2 + q2 ** 2 + p1 ** 2 + p2 ** 2) + q2 * q1 ** 2 - (1/3) * q2 ** 3\n",
    "\n",
    "plt.plot(t, p1, label=\"$p_1$\")\n",
    "plt.plot(t, p2, label=\"$p_2$\")\n",
    "plt.plot(t, q1, label=\"$q_1$\")\n",
    "plt.plot(t, q2, label=\"$q_2$\")\n",
    "plt.plot(t, H, label=\"H\")\n",
    "plt.legend()\n"
   ]
  },
  {
   "cell_type": "code",
   "execution_count": null,
   "metadata": {},
   "outputs": [],
   "source": [
    "X_true = np.concatenate((\n",
    "    t[:, np.newaxis],\n",
    "    pq,\n",
    "    H[:, np.newaxis],\n",
    "), axis=1)\n",
    "\n",
    "M = np.ones_like(X_true).astype(bool)\n",
    "M[200:, 1:5] = False\n",
    "M[:, 5] = False\n",
    "\n",
    "X = np.zeros_like(X_true)\n",
    "X[M] = X_true[M]"
   ]
  },
  {
   "cell_type": "code",
   "execution_count": null,
   "metadata": {},
   "outputs": [],
   "source": [
    "hh_graph = ComputationalGraph(observables_order=[\"t\", \"p1\", \"p2\", \"q1\", \"q2\", \"H\"])\n",
    "\n",
    "hh_graph.add_observable(\"t\")\n",
    "hh_graph.add_unknown_fn(\"t\", \"p1\", alpha=0.01, gamma=LearnableParameter(1.2))\n",
    "hh_graph.add_unknown_fn(\"t\", \"p2\", alpha=0.01, gamma=LearnableParameter(1.2))\n",
    "hh_graph.add_unknown_fn(\"t\", \"q1\", alpha=0.01, gamma=LearnableParameter(1.2))\n",
    "hh_graph.add_unknown_fn(\"t\", \"q2\", alpha=0.01, gamma=LearnableParameter(1.2))\n",
    "\n",
    "hh_graph.add_known_fn(\"p1\", \"p1_dot\", derivative)\n",
    "hh_graph.add_known_fn(\"p2\", \"p2_dot\", derivative)\n",
    "hh_graph.add_known_fn(\"q1\", \"q1_dot\", derivative)\n",
    "hh_graph.add_known_fn(\"q2\", \"q2_dot\", derivative)\n",
    "\n",
    "hh_graph.add_aggregator([\"q1_dot\", \"q2_dot\"], \"q_dot\")\n",
    "hh_graph.add_aggregator([\"p1_dot\", \"p2_dot\"], \"p_dot\")\n",
    "hh_graph.add_known_fn(\"p_dot\", \"-p_dot\", lambda p_dot: -p_dot)\n",
    "\n",
    "hh_graph.add_aggregator([\"q_dot\", \"-p_dot\"], \"qp_dot\")\n",
    "hh_graph.add_aggregator([\"p1\", \"p2\", \"q1\", \"q2\"], \"pq\")\n",
    "\n",
    "hh_graph.add_unknown_fn(\"pq\", \"H\", linear_functional=jax.jacobian, observations=\"qp_dot\", alpha=0.01, gamma=1.0)\n",
    "hh_graph.add_known_fn(\"H\", \"grad_H\", derivative)\n",
    "\n",
    "hh_graph.add_aggregator([\"p_dot\", \"grad_H\"], \"(p_dot, grad_H)\")\n",
    "def p_dot_constraint(p_dot_grad_H):\n",
    "    p_dot, grad_H = p_dot_grad_H[:, :2], p_dot_grad_H[:, 2:]\n",
    "    return p_dot + grad_H[:, 2:]\n",
    "\n",
    "hh_graph.add_aggregator([\"q_dot\", \"grad_H\"], \"(q_dot, grad_H)\")\n",
    "def q_dot_constraint(q_dot_grad_H):\n",
    "    q_dot, grad_H = q_dot_grad_H[:, :2], q_dot_grad_H[:, 2:]\n",
    "    return q_dot - grad_H[:, :2]\n",
    "\n",
    "hh_graph.add_constraint(\"(p_dot, grad_H)\", \"W1\", p_dot_constraint)\n",
    "hh_graph.add_constraint(\"(q_dot, grad_H)\", \"W2\", q_dot_constraint)"
   ]
  },
  {
   "cell_type": "code",
   "execution_count": null,
   "metadata": {},
   "outputs": [],
   "source": [
    "hh_graph.set_loss_multipliers(constraints_loss_multiplier=10000)"
   ]
  },
  {
   "cell_type": "code",
   "execution_count": null,
   "metadata": {},
   "outputs": [],
   "source": [
    "Z = hh_graph.complete(X, M, optimizer=\"l-bfgs-b\", learn_parameters=True, n_rounds=20)"
   ]
  },
  {
   "cell_type": "code",
   "execution_count": null,
   "metadata": {},
   "outputs": [],
   "source": [
    "hh_graph.report_kernel_params()"
   ]
  },
  {
   "cell_type": "code",
   "execution_count": null,
   "metadata": {},
   "outputs": [],
   "source": [
    "fig, axes = plt.subplots(2, 2, figsize=(30, 30))\n",
    "\n",
    "PlotData = namedtuple(\"PlotData\", [\"axes\", \"index\", \"truth\", \"label\"])\n",
    "\n",
    "plots_data = [\n",
    "    PlotData((0, 0), 1, p1, \"$p_1$\"),\n",
    "    PlotData((0, 1), 2, p2, \"$p_2$\"),\n",
    "    PlotData((1, 0), 3, q1, \"$q_1$\"),\n",
    "    PlotData((1, 1), 4, q2, \"$q_2$\")\n",
    "]\n",
    "\n",
    "for data in plots_data:\n",
    "    i,j = data.axes\n",
    "\n",
    "    axes[i, j].plot(t, Z[:, data.index], label=\"Predictions\")\n",
    "    axes[i, j].plot(t, data.truth, label=\"Truth\")\n",
    "    axes[i, j].axvline(39, label=\"End-of-Observations\", linestyle='--', c='black')\n",
    "    axes[i, j].set_title(data.label)\n",
    "    axes[i, j].legend()"
   ]
  },
  {
   "cell_type": "code",
   "execution_count": null,
   "metadata": {},
   "outputs": [],
   "source": [
    "plt.plot(t, Z[:, 5])\n"
   ]
  },
  {
   "cell_type": "markdown",
   "metadata": {},
   "source": [
    "# [WIP] Periodically driven pendulum"
   ]
  },
  {
   "cell_type": "markdown",
   "metadata": {},
   "source": [
    "## Data Generation"
   ]
  },
  {
   "cell_type": "code",
   "execution_count": null,
   "metadata": {},
   "outputs": [],
   "source": [
    "import jax\n",
    "import jax.numpy as jnp\n",
    "import numpy as np\n",
    "\n",
    "from scipy.integrate import odeint\n",
    "import matplotlib.pyplot as plt\n",
    "\n",
    "nu = 5\n",
    "lam = 1\n",
    "\n",
    "def H(p, q, t):\n",
    "    return 0.5 * p ** 2 - (nu ** 2) * jnp.cos(q) - lam * (0.3 * p * q * jnp.sin(0.2 * t) + 0.7 * p * q * jnp.sin(0.3 * t))\n",
    "\n",
    "def dq_H(p, q, t):\n",
    "    return (nu ** 2) * np.sin(q) - lam * p * (0.3 * np.sin(2 * t) + 0.7 * np.sin(3 * t))\n",
    "\n",
    "def dp_H(p, q, t):\n",
    "    return p - lam * q * (0.3 * np.sin(2 * t) + 0.7 * np.sin(3 * t))\n",
    "\n",
    "#dq_H = jax.vmap(\n",
    "#        jax.vmap(\n",
    "#            jax.vmap(jax.grad(H, argnums=1), in_axes=(None, None, 0)),\n",
    "#            in_axes=(None, 0, None)\n",
    "#        ),\n",
    "#        in_axes=(0, None, None)\n",
    "#)\n",
    "#dq_H = jax.vmap(jax.grad(H, argnums=1), (0, 0, 0))\n",
    "#dp_H = jax.vmap(jax.grad(H, argnums=0), (0, 0, 0))\n",
    "\n",
    "p_dot = lambda p, q, t: -1 * dq_H(p, q, t)\n",
    "q_dot = lambda p, q, t: dp_H(p, q, t)\n",
    "\n",
    "def system_ode(pq, t):\n",
    "    h_grad = [0, 0]\n",
    "    p, q = pq\n",
    "    h_grad[0] = p_dot(p, q, t)\n",
    "    h_grad[1] = q_dot(p, q, t)\n",
    "    return h_grad\n",
    "\n",
    "t = np.linspace(0, 40, 400)\n",
    "pq = odeint(system_ode, [0.1, 0.1], t=t)\n"
   ]
  },
  {
   "cell_type": "code",
   "execution_count": null,
   "metadata": {},
   "outputs": [],
   "source": [
    "h_values = H(pq[:, 0], pq[:, 1], t)\n",
    "np.mean(h_values)"
   ]
  },
  {
   "cell_type": "code",
   "execution_count": null,
   "metadata": {},
   "outputs": [],
   "source": [
    "np.std(h_values)"
   ]
  },
  {
   "cell_type": "code",
   "execution_count": null,
   "metadata": {},
   "outputs": [],
   "source": [
    "_, axes = plt.subplots(1, 3, figsize=(30, 10))\n",
    "\n",
    "axes[0].plot(t, pq[:, 0])\n",
    "axes[1].plot(t, pq[:, 1])\n",
    "axes[2].plot(t, H(pq[:, 0], pq[:, 1], t))"
   ]
  },
  {
   "cell_type": "code",
   "execution_count": null,
   "metadata": {},
   "outputs": [],
   "source": [
    "X_true = np.concatenate((t[:, np.newaxis], pq, H(pq[:, 0], pq[:, 1], t)[:, np.newaxis]), axis=1)\n",
    "n, p = X_true.shape\n",
    "M = np.full((n, p), fill_value=True).astype(bool)\n",
    "M[:, p - 1] = False\n",
    "M[200:, 1:3] = False\n",
    "\n",
    "\n",
    "X = np.zeros_like(X_true)\n",
    "X[M] = X_true[M]\n"
   ]
  },
  {
   "cell_type": "code",
   "execution_count": null,
   "metadata": {},
   "outputs": [],
   "source": [
    "from cgc.graph import ComputationalGraph, derivative\n",
    "\n",
    "graph = ComputationalGraph(observables_order=[\"t\", \"p\", \"q\", \"H\"])\n",
    "\n",
    "graph.add_observable(\"t\")\n",
    "graph.add_unknown_fn(\"t\", \"p\", alpha=0.01)\n",
    "graph.add_unknown_fn(\"t\", \"q\", alpha=0.01)\n",
    "graph.add_known_fn(\"p\", \"p_dot\", derivative)\n",
    "graph.add_known_fn(\"q\", \"q_dot\", derivative)\n",
    "graph.add_aggregator([\"p\", \"q\", \"t\"], \"pqt\")\n",
    "graph.add_unknown_fn(\"pqt\", \"H\", alpha=0.01)\n",
    "graph.add_known_fn(\"H\", \"grad_H\", derivative)\n",
    "\n",
    "graph.add_aggregator([\"grad_H\", \"p_dot\"], \"(grad_H, p_dot)\")\n",
    "graph.add_aggregator([\"grad_H\", \"q_dot\"], \"(grad_H, q_dot)\")\n",
    "\n",
    "def q_dot_constraint(grad_H_q_dot):\n",
    "    grad_H, q_dot = grad_H_q_dot[:, :3], grad_H_q_dot[:, 3]\n",
    "    Dp_H = grad_H[:, 0]\n",
    "    return q_dot - Dp_H\n",
    "\n",
    "def p_dot_constraint(grad_H_p_dot):\n",
    "    grad_H, p_dot = grad_H_p_dot[:, :3], grad_H_p_dot[:, 3]\n",
    "    Dq_H = grad_H[:, 1]\n",
    "    return p_dot + Dq_H\n",
    "\n",
    "graph.add_constraint(\"(grad_H, p_dot)\", \"W1\", p_dot_constraint)\n",
    "graph.add_constraint(\"(grad_H, q_dot)\", \"W2\", q_dot_constraint)"
   ]
  },
  {
   "cell_type": "code",
   "execution_count": null,
   "metadata": {},
   "outputs": [],
   "source": [
    "graph.set_loss_multipliers(constraints_loss_multiplier=1000, data_compliance_loss_multiplier=1000, unknown_functions_loss_multiplier=10)\n",
    "Z = graph.complete(X, M)"
   ]
  },
  {
   "cell_type": "code",
   "execution_count": null,
   "metadata": {},
   "outputs": [],
   "source": [
    "_, axes = plt.subplots(1, 3, figsize=(30, 10))\n",
    "\n",
    "axes[0].plot(t, Z[:, 1])\n",
    "axes[1].plot(t, Z[:, 2])\n",
    "axes[2].plot(t, Z[:, 3])"
   ]
  }
 ],
 "metadata": {
  "kernelspec": {
   "display_name": "Python 3.8.13 ('cgc-env')",
   "language": "python",
   "name": "python3"
  },
  "language_info": {
   "codemirror_mode": {
    "name": "ipython",
    "version": 3
   },
   "file_extension": ".py",
   "mimetype": "text/x-python",
   "name": "python",
   "nbconvert_exporter": "python",
   "pygments_lexer": "ipython3",
   "version": "3.8.13"
  },
  "orig_nbformat": 4,
  "vscode": {
   "interpreter": {
    "hash": "2e568e7e253e1f64df9045166da71e73dd2b99dbcc5d59502757bac964be4c2a"
   }
  }
 },
 "nbformat": 4,
 "nbformat_minor": 2
}
